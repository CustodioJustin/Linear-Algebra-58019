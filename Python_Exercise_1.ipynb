{
  "nbformat": 4,
  "nbformat_minor": 0,
  "metadata": {
    "colab": {
      "name": "Python Exercise 1",
      "provenance": [],
      "collapsed_sections": [],
      "authorship_tag": "ABX9TyOMRSbNkDEo09NYHSGsGPsc",
      "include_colab_link": true
    },
    "kernelspec": {
      "name": "python3",
      "display_name": "Python 3"
    },
    "language_info": {
      "name": "python"
    }
  },
  "cells": [
    {
      "cell_type": "markdown",
      "metadata": {
        "id": "view-in-github",
        "colab_type": "text"
      },
      "source": [
        "<a href=\"https://colab.research.google.com/github/CustodioJustin/Linear-Algebra-58019/blob/main/Python_Exercise_1.ipynb\" target=\"_parent\"><img src=\"https://colab.research.google.com/assets/colab-badge.svg\" alt=\"Open In Colab\"/></a>"
      ]
    },
    {
      "cell_type": "markdown",
      "metadata": {
        "id": "1ZfmoZkq7wST"
      },
      "source": [
        "#Matrices and Algebra operation"
      ]
    },
    {
      "cell_type": "code",
      "metadata": {
        "colab": {
          "base_uri": "https://localhost:8080/"
        },
        "id": "PEcO155I7p4Z",
        "outputId": "3142713d-aa84-4e56-cf40-8a35e6de710d"
      },
      "source": [
        "#Custodio Justin Chyle C.\n",
        "import numpy as np\n",
        "\n",
        "a = np.array([[-5,0],[4,1]])\n",
        "b = np.array([[6, -3],[2,3]])\n",
        "print(a)\n",
        "print(b)\n",
        "\n",
        "print(\"\")\n",
        "print(\"Operation Result\")\n",
        "print(a+b) #sum = A +B\n",
        "print(\"\")\n",
        "print(b-a) #difference1 = B - A\n",
        "print(\"\")\n",
        "print(a-b) #difference2 = A - B\n"
      ],
      "execution_count": 17,
      "outputs": [
        {
          "output_type": "stream",
          "name": "stdout",
          "text": [
            "[[-5  0]\n",
            " [ 4  1]]\n",
            "[[ 6 -3]\n",
            " [ 2  3]]\n",
            "\n",
            "Operation Result\n",
            "[[ 1 -3]\n",
            " [ 6  4]]\n",
            "\n",
            "[[11 -3]\n",
            " [-2  2]]\n",
            "\n",
            "[[-11   3]\n",
            " [  2  -2]]\n"
          ]
        }
      ]
    }
  ]
}