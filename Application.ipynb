{
  "nbformat": 4,
  "nbformat_minor": 0,
  "metadata": {
    "colab": {
      "name": "Application",
      "provenance": [],
      "authorship_tag": "ABX9TyMpE1I8ePEPGn5ual75vl+1",
      "include_colab_link": true
    },
    "kernelspec": {
      "name": "python3",
      "display_name": "Python 3"
    },
    "language_info": {
      "name": "python"
    }
  },
  "cells": [
    {
      "cell_type": "markdown",
      "metadata": {
        "id": "view-in-github",
        "colab_type": "text"
      },
      "source": [
        "<a href=\"https://colab.research.google.com/github/CustodioJustin/Linear-Algebra-58019/blob/main/Application.ipynb\" target=\"_parent\"><img src=\"https://colab.research.google.com/assets/colab-badge.svg\" alt=\"Open In Colab\"/></a>"
      ]
    },
    {
      "cell_type": "markdown",
      "metadata": {
        "id": "aLRemoEIEuCe"
      },
      "source": [
        "Suppose, a market seller sold 20 apples and 10 orange in one day for total 350 pesos. The next day he sold 17 apples and 22 oranges for 500 pesos. If the price of the fruits remained unchanged on both the days, what was the price of one apple and one orange."
      ]
    },
    {
      "cell_type": "code",
      "metadata": {
        "id": "_PadQ_mbErQl"
      },
      "source": [
        "# 20x+10y = 350\n",
        "# 17x+22y = 500"
      ],
      "execution_count": 23,
      "outputs": []
    },
    {
      "cell_type": "code",
      "metadata": {
        "colab": {
          "base_uri": "https://localhost:8080/"
        },
        "id": "W3jD2echF4Nv",
        "outputId": "4ec60740-de13-49a7-b9b6-ef7e9b37433f"
      },
      "source": [
        "import numpy as np\n",
        "from scipy.linalg import solve\n",
        "\n",
        "A = np.array([[20,10],\n",
        "              [17,22]])\n",
        "\n",
        "B = np.array([[350],\n",
        "              [500]])\n",
        "\n",
        "print(A,'\\n\\n', B, '\\n')\n",
        "\n",
        "# eq01 = np.linalg.inv(A).dot(B)\n",
        "        # Past Method\n",
        "\n",
        "# eq01 = np.linalg.solve(A, B)\n",
        "        # Numpy\n",
        "\n",
        "eq01 = solve(A, B)\n",
        "\n",
        "print(eq01)"
      ],
      "execution_count": 24,
      "outputs": [
        {
          "output_type": "stream",
          "name": "stdout",
          "text": [
            "[[20 10]\n",
            " [17 22]] \n",
            "\n",
            " [[350]\n",
            " [500]] \n",
            "\n",
            "[[10.]\n",
            " [15.]]\n"
          ]
        }
      ]
    },
    {
      "cell_type": "code",
      "metadata": {
        "colab": {
          "base_uri": "https://localhost:8080/"
        },
        "id": "tgl70llVMEsY",
        "outputId": "ab390e1f-677d-4da0-ab47-c8359ac7a1b7"
      },
      "source": [
        "# 4x+3y+2z = 25\n",
        "# -2z+2y-3z = -10\n",
        "# 3x-5y+2z = -4\n",
        "\n",
        "# import numpy as np\n",
        "# from scipy.linalg import solve\n",
        "          # Using what's above\n",
        "\n",
        "A = np.array([[4,3,2],\n",
        "              [-2,2,3],\n",
        "              [3,-5,2]])\n",
        "\n",
        "B = np.array([[25],\n",
        "              [-10],\n",
        "              [-4]])\n",
        "\n",
        "print(A,'\\n\\n', B, '\\n')\n",
        "\n",
        "eq02 = solve(A, B)\n",
        "\n",
        "print(eq02)"
      ],
      "execution_count": 29,
      "outputs": [
        {
          "output_type": "stream",
          "name": "stdout",
          "text": [
            "[[ 4  3  2]\n",
            " [-2  2  3]\n",
            " [ 3 -5  2]] \n",
            "\n",
            " [[ 25]\n",
            " [-10]\n",
            " [ -4]] \n",
            "\n",
            "[[ 5.]\n",
            " [ 3.]\n",
            " [-2.]]\n"
          ]
        }
      ]
    }
  ]
}