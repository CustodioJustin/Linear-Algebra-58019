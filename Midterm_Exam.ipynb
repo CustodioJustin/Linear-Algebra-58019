{
  "nbformat": 4,
  "nbformat_minor": 0,
  "metadata": {
    "colab": {
      "name": "Midterm Exam",
      "provenance": [],
      "authorship_tag": "ABX9TyP8Zss+O7mVYJwdY09OdCb/",
      "include_colab_link": true
    },
    "kernelspec": {
      "name": "python3",
      "display_name": "Python 3"
    },
    "language_info": {
      "name": "python"
    }
  },
  "cells": [
    {
      "cell_type": "markdown",
      "metadata": {
        "id": "view-in-github",
        "colab_type": "text"
      },
      "source": [
        "<a href=\"https://colab.research.google.com/github/CustodioJustin/Linear-Algebra-58019/blob/main/Midterm_Exam.ipynb\" target=\"_parent\"><img src=\"https://colab.research.google.com/assets/colab-badge.svg\" alt=\"Open In Colab\"/></a>"
      ]
    },
    {
      "cell_type": "markdown",
      "metadata": {
        "id": "n0SPmQ5tGlAq"
      },
      "source": [
        "## Question 1"
      ]
    },
    {
      "cell_type": "code",
      "metadata": {
        "colab": {
          "base_uri": "https://localhost:8080/"
        },
        "id": "rd3eAJui2sXJ",
        "outputId": "2c2b102e-e9e0-4f3f-b75c-2f0d77bad535"
      },
      "source": [
        "# Question 1. Create a Python code that displays a square matrix whose length\n",
        "# is 5 (10 points)\n",
        "\n",
        "import numpy as np\n",
        "\n",
        "q1 = np.full((5,5), 1)\n",
        "print(q1)\n"
      ],
      "execution_count": 33,
      "outputs": [
        {
          "output_type": "stream",
          "name": "stdout",
          "text": [
            "[[1 1 1 1 1]\n",
            " [1 1 1 1 1]\n",
            " [1 1 1 1 1]\n",
            " [1 1 1 1 1]\n",
            " [1 1 1 1 1]]\n"
          ]
        }
      ]
    },
    {
      "cell_type": "markdown",
      "metadata": {
        "id": "qGdxUsC9GpZf"
      },
      "source": [
        "## Question 2"
      ]
    },
    {
      "cell_type": "code",
      "metadata": {
        "colab": {
          "base_uri": "https://localhost:8080/"
        },
        "id": "OgMWSKTE5AMg",
        "outputId": "92cc5a28-7892-479f-ce35-2b9727484c52"
      },
      "source": [
        "# Question 2. Create a Python code that displays a square matrix whose elements\n",
        "# below the principal diagonal are zero (10 points)\n",
        "\n",
        "q2 = np.array([[1,2,3,4,5],[0,6,7,8,9],[0,0,10,11,12],[0,0,0,13,14],[0,0,0,0,15]])\n",
        "print(q2)"
      ],
      "execution_count": 34,
      "outputs": [
        {
          "output_type": "stream",
          "name": "stdout",
          "text": [
            "[[ 1  2  3  4  5]\n",
            " [ 0  6  7  8  9]\n",
            " [ 0  0 10 11 12]\n",
            " [ 0  0  0 13 14]\n",
            " [ 0  0  0  0 15]]\n"
          ]
        }
      ]
    },
    {
      "cell_type": "markdown",
      "metadata": {
        "id": "3XkOcQmbGqk7"
      },
      "source": [
        "## Question 3"
      ]
    },
    {
      "cell_type": "code",
      "metadata": {
        "colab": {
          "base_uri": "https://localhost:8080/"
        },
        "id": "tUdRAtoG6mUo",
        "outputId": "29da92c3-6aa7-4f96-c951-c8c019302474"
      },
      "source": [
        "# Question 3. Create a Python code that displays a square matrix which is\n",
        "# symmetrical (10 points)\n",
        "\n",
        "q3_a = np.array([[1,2,3],[2,4,5],[3,5,8]])\n",
        "q3_b = np.array([[1,2,3],[2,4,5],[3,2,1]])\n",
        "print(q3_a)\n",
        "print('or')\n",
        "print(q3_b)"
      ],
      "execution_count": 45,
      "outputs": [
        {
          "output_type": "stream",
          "name": "stdout",
          "text": [
            "[[1 2 3]\n",
            " [2 4 5]\n",
            " [3 5 8]]\n",
            "or\n",
            "[[1 2 3]\n",
            " [2 4 5]\n",
            " [3 2 1]]\n"
          ]
        }
      ]
    },
    {
      "cell_type": "markdown",
      "metadata": {
        "id": "YyDRnnxlGrqP"
      },
      "source": [
        "## Question 4"
      ]
    },
    {
      "cell_type": "code",
      "metadata": {
        "colab": {
          "base_uri": "https://localhost:8080/"
        },
        "id": "69KpmfhA8NmT",
        "outputId": "64e3b906-a82d-4da5-c380-9d550127ac43"
      },
      "source": [
        "# Question 4. What is the inverse of matrix C? Show your solution by python \n",
        "# coding. (20 points)\n",
        "\n",
        "q4_a = np.array([[1,2,3],[2,3,3],[3,4,-2]])\n",
        "q4 = np.linalg.inv(q4_a)\n",
        "print(q4_a)\n",
        "print()\n",
        "print(q4)"
      ],
      "execution_count": 36,
      "outputs": [
        {
          "output_type": "stream",
          "name": "stdout",
          "text": [
            "[[ 1  2  3]\n",
            " [ 2  3  3]\n",
            " [ 3  4 -2]]\n",
            "\n",
            "[[-3.6  3.2 -0.6]\n",
            " [ 2.6 -2.2  0.6]\n",
            " [-0.2  0.4 -0.2]]\n"
          ]
        }
      ]
    },
    {
      "cell_type": "markdown",
      "metadata": {
        "id": "Mvgp-w59GsoX"
      },
      "source": [
        "## Question 5"
      ]
    },
    {
      "cell_type": "code",
      "metadata": {
        "colab": {
          "base_uri": "https://localhost:8080/"
        },
        "id": "Ihh35hKi9Enm",
        "outputId": "1de210ea-9fd5-4a27-af68-ba6bdf9967d1"
      },
      "source": [
        "# Question 5. What is the determinant of the given matrix in Question 4? Show \n",
        "# your solution by python coding. (20 points)\n",
        "\n",
        "print(q4_a)\n",
        "print(round(np.linalg.det(q4_a)))"
      ],
      "execution_count": 46,
      "outputs": [
        {
          "output_type": "stream",
          "name": "stdout",
          "text": [
            "[[ 1  2  3]\n",
            " [ 2  3  3]\n",
            " [ 3  4 -2]]\n",
            "5\n"
          ]
        }
      ]
    },
    {
      "cell_type": "markdown",
      "metadata": {
        "id": "tCNTonCVGt4P"
      },
      "source": [
        "## Question 6"
      ]
    },
    {
      "cell_type": "code",
      "metadata": {
        "colab": {
          "base_uri": "https://localhost:8080/"
        },
        "id": "HpR5rjjk9Vxu",
        "outputId": "8dbdff84-3a94-4623-e371-f5415a148529"
      },
      "source": [
        "# Question 6. Find the roots of the linear equations by showing its python codes\n",
        "# (30 points)\n",
        "# 5X1 + 4X2 + X3 = 3.4\n",
        "# 10X1 + 9X2 + 4X3 = 8.8\n",
        "# 10X1 + 13X2 + 15X3 = 19.2\n",
        "\n",
        "print('given:')\n",
        "print('5X1 + 4X2 + X3 = 3.4')\n",
        "print('10X1 + 9X2 + 4X3 = 8.8')\n",
        "print('10X1 + 13X2 + 15X3 = 19.2')\n",
        "print()\n",
        "q6_A = np.array([[5,4,1],[10,9,4],[10,13,15]])\n",
        "q6_B = np.array([[3.4],[8.8],[19.2]])\n",
        "print(q6_A)\n",
        "print(q6_B)\n",
        "print()\n",
        "q6 = np.linalg.inv(q6_A).dot(q6_B)\n",
        "print(q6)\n",
        "print()\n",
        "print('proof')\n",
        "print('X1 =',q6[0], 'X2 =',q6[1], 'X3 =',q6[2])\n",
        "print()\n",
        "print('5X1 + 4X2 + X3 =',(5*q6[0])+(4*q6[1])+(q6[2]))\n",
        "print('10X1 + 9X2 + 4X3 =',(10*q6[0])+(9*q6[1])+(4*q6[2]))\n",
        "print('10X1 + 13X2 + 15X3 =',(10*q6[0])+(13*q6[1])+(15*q6[2]))"
      ],
      "execution_count": 48,
      "outputs": [
        {
          "output_type": "stream",
          "name": "stdout",
          "text": [
            "given:\n",
            "5X1 + 4X2 + X3 = 3.4\n",
            "10X1 + 9X2 + 4X3 = 8.8\n",
            "10X1 + 13X2 + 15X3 = 19.2\n",
            "\n",
            "[[ 5  4  1]\n",
            " [10  9  4]\n",
            " [10 13 15]]\n",
            "[[ 3.4]\n",
            " [ 8.8]\n",
            " [19.2]]\n",
            "\n",
            "[[0.2]\n",
            " [0.4]\n",
            " [0.8]]\n",
            "\n",
            "proof\n",
            "X1 = [0.2] X2 = [0.4] X3 = [0.8]\n",
            "\n",
            "5X1 + 4X2 + X3 = [3.4]\n",
            "10X1 + 9X2 + 4X3 = [8.8]\n",
            "10X1 + 13X2 + 15X3 = [19.2]\n"
          ]
        }
      ]
    }
  ]
}