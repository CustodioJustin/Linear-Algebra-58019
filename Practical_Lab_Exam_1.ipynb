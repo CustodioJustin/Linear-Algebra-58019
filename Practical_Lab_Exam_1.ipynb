{
  "nbformat": 4,
  "nbformat_minor": 0,
  "metadata": {
    "colab": {
      "name": "Practical Lab Exam 1",
      "provenance": [],
      "authorship_tag": "ABX9TyMMR3uY74oXqAnYXRDzOBsV",
      "include_colab_link": true
    },
    "kernelspec": {
      "name": "python3",
      "display_name": "Python 3"
    },
    "language_info": {
      "name": "python"
    }
  },
  "cells": [
    {
      "cell_type": "markdown",
      "metadata": {
        "id": "view-in-github",
        "colab_type": "text"
      },
      "source": [
        "<a href=\"https://colab.research.google.com/github/CustodioJustin/Linear-Algebra-58019/blob/main/Practical_Lab_Exam_1.ipynb\" target=\"_parent\"><img src=\"https://colab.research.google.com/assets/colab-badge.svg\" alt=\"Open In Colab\"/></a>"
      ]
    },
    {
      "cell_type": "markdown",
      "metadata": {
        "id": "b9FBmzlgniCR"
      },
      "source": [
        "#Practical Lab Exam 1"
      ]
    },
    {
      "cell_type": "code",
      "metadata": {
        "colab": {
          "base_uri": "https://localhost:8080/"
        },
        "id": "2dTx6Gszmbrl",
        "outputId": "94c729c3-6fd3-4748-cf30-ed8bbd52baaf"
      },
      "source": [
        "import numpy as np\n",
        "\n",
        "A = np.array([[1,2,3], [4,5,6]])\n",
        "B = np.array([[1,2],[3,4],[5,6]])\n",
        "C = np.array([[1,2,3], [4,5,6], [7,8,9]])\n",
        "D = np.array([[1,2],[3,4]])\n",
        "\n",
        "print(\"Problem 1\")\n",
        "a = np.dot(A,B)\n",
        "print(a)\n",
        "print(\"\")\n",
        "b = np.add(D,D)\n",
        "print(b)\n",
        "print(\"\")\n",
        "c = 2*C\n",
        "print(c)\n",
        "print(\"\")\n",
        "print(\"Problem 2\")\n",
        "delta = np.array([5,3,-1])\n",
        "print(delta)\n",
        "print(\"\")\n",
        "print(\"Size: \",delta.size)\n",
        "print(\"Shape: \",delta.shape)\n",
        "print(\"Number of Dimension: \",delta.ndim)"
      ],
      "execution_count": 38,
      "outputs": [
        {
          "output_type": "stream",
          "name": "stdout",
          "text": [
            "Problem 1\n",
            "[[22 28]\n",
            " [49 64]]\n",
            "\n",
            "[[2 4]\n",
            " [6 8]]\n",
            "\n",
            "[[ 2  4  6]\n",
            " [ 8 10 12]\n",
            " [14 16 18]]\n",
            "\n",
            "Problem 2\n",
            "[ 5  3 -1]\n",
            "\n",
            "Size:  3\n",
            "Shape:  (3,)\n",
            "Number of Dimension:  1\n"
          ]
        }
      ]
    }
  ]
}