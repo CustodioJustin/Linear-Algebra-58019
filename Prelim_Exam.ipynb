{
  "nbformat": 4,
  "nbformat_minor": 0,
  "metadata": {
    "colab": {
      "name": "Prelim Exam",
      "provenance": [],
      "authorship_tag": "ABX9TyOu2ML6tYo6bjkZMVgLfiYX",
      "include_colab_link": true
    },
    "kernelspec": {
      "name": "python3",
      "display_name": "Python 3"
    },
    "language_info": {
      "name": "python"
    }
  },
  "cells": [
    {
      "cell_type": "markdown",
      "metadata": {
        "id": "view-in-github",
        "colab_type": "text"
      },
      "source": [
        "<a href=\"https://colab.research.google.com/github/CustodioJustin/Linear-Algebra-58019/blob/main/Prelim_Exam.ipynb\" target=\"_parent\"><img src=\"https://colab.research.google.com/assets/colab-badge.svg\" alt=\"Open In Colab\"/></a>"
      ]
    },
    {
      "cell_type": "markdown",
      "metadata": {
        "id": "YeHzMOhag5bw"
      },
      "source": [
        "##QUESTION 1"
      ]
    },
    {
      "cell_type": "code",
      "metadata": {
        "colab": {
          "base_uri": "https://localhost:8080/"
        },
        "id": "igb1GuaKg24e",
        "outputId": "bae0457b-608c-4867-cb46-079c068747f8"
      },
      "source": [
        "#Create a 4 x 4 matrix whose diagonal elements are all one (1's). \n",
        "#Name it as matrix \"C\". Show your solutions using Python codes and do not\n",
        "#forget to label them on the Text Cell.\n",
        "import numpy as np\n",
        "\n",
        "C = np.full((4,4),1)\n",
        "print(C)\n",
        "q1 = np.diagonal(C)\n",
        "print(q1)"
      ],
      "execution_count": 41,
      "outputs": [
        {
          "output_type": "stream",
          "name": "stdout",
          "text": [
            "[[1 1 1 1]\n",
            " [1 1 1 1]\n",
            " [1 1 1 1]\n",
            " [1 1 1 1]]\n",
            "[1 1 1 1]\n"
          ]
        }
      ]
    },
    {
      "cell_type": "markdown",
      "metadata": {
        "id": "f2chjlmSiu2N"
      },
      "source": [
        "##QUESTION 2"
      ]
    },
    {
      "cell_type": "code",
      "metadata": {
        "colab": {
          "base_uri": "https://localhost:8080/"
        },
        "id": "0CiNwkvBixVo",
        "outputId": "ec286a93-e950-4cc3-d51f-df984fd344ad"
      },
      "source": [
        "#In relation to Question 1, show a solution that doubles all the values of each\n",
        "#element. Show your solutions using Python codes and do not forget to label\n",
        "#them on the Text Cell.\n",
        "\n",
        "q2_a = C*2\n",
        "q2_b = q1*2\n",
        "print(\"Double the value (Multiply by 2) of C from Question 1\")\n",
        "print(q2_a)\n",
        "print(q2_b)"
      ],
      "execution_count": 40,
      "outputs": [
        {
          "output_type": "stream",
          "name": "stdout",
          "text": [
            "Double the value (Multiply by 2) of C from Question 1\n",
            "[[2 2 2 2]\n",
            " [2 2 2 2]\n",
            " [2 2 2 2]\n",
            " [2 2 2 2]]\n",
            "[2 2 2 2]\n"
          ]
        }
      ]
    },
    {
      "cell_type": "markdown",
      "metadata": {
        "id": "9MvAGc2kjZt2"
      },
      "source": [
        "##QUESTION 3"
      ]
    },
    {
      "cell_type": "code",
      "metadata": {
        "colab": {
          "base_uri": "https://localhost:8080/"
        },
        "id": "jO8iEAj_jd7w",
        "outputId": "4383c82f-776d-477e-a50b-557f7b72f882"
      },
      "source": [
        "#Find the cross-product of matrices, A = [2,7,4] and B = [3,9,8]. \n",
        "#Show your solutions using Python codes and do not forget to label them on \n",
        "#the Text Cell.\n",
        "\n",
        "A = np.array([2,7,4])\n",
        "B = np.array([3,9,8])\n",
        "\n",
        "print(A)\n",
        "print(B)\n",
        "q3 = np.cross(A,B)\n",
        "print(q3)"
      ],
      "execution_count": 42,
      "outputs": [
        {
          "output_type": "stream",
          "name": "stdout",
          "text": [
            "[2 7 4]\n",
            "[3 9 8]\n",
            "[20 -4 -3]\n"
          ]
        }
      ]
    }
  ]
}