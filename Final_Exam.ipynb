{
  "nbformat": 4,
  "nbformat_minor": 0,
  "metadata": {
    "colab": {
      "name": "Final Exam",
      "provenance": [],
      "authorship_tag": "ABX9TyMmQJlobIrCyyR+gCaEv8Ce",
      "include_colab_link": true
    },
    "kernelspec": {
      "name": "python3",
      "display_name": "Python 3"
    },
    "language_info": {
      "name": "python"
    }
  },
  "cells": [
    {
      "cell_type": "markdown",
      "metadata": {
        "id": "view-in-github",
        "colab_type": "text"
      },
      "source": [
        "<a href=\"https://colab.research.google.com/github/CustodioJustin/Linear-Algebra-58019/blob/main/Final_Exam.ipynb\" target=\"_parent\"><img src=\"https://colab.research.google.com/assets/colab-badge.svg\" alt=\"Open In Colab\"/></a>"
      ]
    },
    {
      "cell_type": "code",
      "execution_count": null,
      "metadata": {
        "colab": {
          "base_uri": "https://localhost:8080/"
        },
        "id": "-SCWIPpo_W7j",
        "outputId": "e0c68dbf-3b4f-48db-d176-30d02376a79f"
      },
      "outputs": [
        {
          "output_type": "stream",
          "name": "stdout",
          "text": [
            "[[13.]\n",
            " [57.]\n",
            " [19.]]\n"
          ]
        }
      ],
      "source": [
        "# Problem 1. Student A, Student B, and Student C have a total of Php 89 cash in\n",
        "# their banks. Student A has 6 less than Student C. Student B has 3 times what \n",
        "# Student C has. How much does each student have? (30 points)\n",
        "\n",
        "import numpy as np\n",
        "from scipy.linalg import solve\n",
        "\n",
        "# -6A+3B+C = 89\n",
        "\n",
        "A = np.array([[1,1,1],[1,0,4],[0,0,5]])\n",
        "B = np.array([[89],[89],[95]])\n",
        "amount = np.linalg.inv(A).dot(B)\n",
        "print(amount)\n"
      ]
    },
    {
      "cell_type": "code",
      "source": [
        "# Problem 2. Solve each system: (30 points)\n",
        "\n",
        "A1 = np.array([[3,-1,1], [9,-3,3], [-12,4,-4]])\n",
        "B1 = np.array([[5], [15], [-20]])\n",
        "\n",
        "print(A1, \"\\n\")\n",
        "print(B1, \"\\n\")\n",
        "\n",
        "#ans2 = solve(A1, B1)\n",
        "#print(ans2, '\\n')\n",
        "\n",
        "print(' ERROR: LinAlgError: Singular Matrix')\n",
        "print(' This problem gives an error mainly because ')\n",
        "print(' It gives a determinant of 0 therefor ')\n",
        "print(' Inverse of the matrix does not exist ')"
      ],
      "metadata": {
        "colab": {
          "base_uri": "https://localhost:8080/"
        },
        "id": "eK8ul0oXGxVe",
        "outputId": "9e694c8d-bd02-4ef9-ff70-8b9a95ccb508"
      },
      "execution_count": null,
      "outputs": [
        {
          "output_type": "stream",
          "name": "stdout",
          "text": [
            "[[  3  -1   1]\n",
            " [  9  -3   3]\n",
            " [-12   4  -4]] \n",
            "\n",
            "[[  5]\n",
            " [ 15]\n",
            " [-20]] \n",
            "\n",
            " ERROR: LinAlgError: Singular Matrix\n",
            " This problem gives an error mainly because \n",
            " It gives a determinant of 0 therefor \n",
            " Inverse of the matrix does not exist \n"
          ]
        }
      ]
    },
    {
      "cell_type": "code",
      "source": [
        "# Problem 3. Consider the matrix, (40 points)\n",
        "\n",
        "A2 = np.array([[8,5,-6],\n",
        "              [-12,-9,12],\n",
        "              [-3,-3,5]])\n",
        "\n",
        "print(A2, '\\n')\n",
        "\n",
        "z,x = np.linalg.eig(A2)\n",
        "print(\"The Eigenvalues are: \\n\", z, \"\\n\")\n",
        "\n",
        "print(\"The Eigenvectors are: \\n\", x.round())"
      ],
      "metadata": {
        "colab": {
          "base_uri": "https://localhost:8080/"
        },
        "id": "G7aXS9QkKldy",
        "outputId": "64f97f5b-d9b0-451b-e5a7-ce8394e9ee71"
      },
      "execution_count": null,
      "outputs": [
        {
          "output_type": "stream",
          "name": "stdout",
          "text": [
            "[[  8   5  -6]\n",
            " [-12  -9  12]\n",
            " [ -3  -3   5]] \n",
            "\n",
            "The Eigenvalues are: \n",
            " [-1.  3.  2.] \n",
            "\n",
            "The Eigenvectors are: \n",
            " [[ 0. -1.  1.]\n",
            " [-1.  1.  0.]\n",
            " [-0. -0.  1.]]\n"
          ]
        }
      ]
    }
  ]
}