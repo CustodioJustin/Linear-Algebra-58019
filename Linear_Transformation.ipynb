{
  "nbformat": 4,
  "nbformat_minor": 0,
  "metadata": {
    "colab": {
      "name": "Linear Transformation",
      "provenance": [],
      "authorship_tag": "ABX9TyPfBPul1EfEtu80Cp4s1Xsf",
      "include_colab_link": true
    },
    "kernelspec": {
      "name": "python3",
      "display_name": "Python 3"
    },
    "language_info": {
      "name": "python"
    }
  },
  "cells": [
    {
      "cell_type": "markdown",
      "metadata": {
        "id": "view-in-github",
        "colab_type": "text"
      },
      "source": [
        "<a href=\"https://colab.research.google.com/github/CustodioJustin/Linear-Algebra-58019/blob/main/Linear_Transformation.ipynb\" target=\"_parent\"><img src=\"https://colab.research.google.com/assets/colab-badge.svg\" alt=\"Open In Colab\"/></a>"
      ]
    },
    {
      "cell_type": "code",
      "metadata": {
        "colab": {
          "base_uri": "https://localhost:8080/"
        },
        "id": "_CgqNYhWAKma",
        "outputId": "8b519274-1b13-43cc-f276-f36191dd98c9"
      },
      "source": [
        "import numpy as np\n",
        "\n",
        "A = np.array([[4,3], [-5,9]])\n",
        "print(A)\n",
        "inv_A = np.linalg.inv(A)\n",
        "print(inv_A)"
      ],
      "execution_count": null,
      "outputs": [
        {
          "output_type": "stream",
          "name": "stdout",
          "text": [
            "[[ 4  3]\n",
            " [-5  9]]\n",
            "[[ 0.17647059 -0.05882353]\n",
            " [ 0.09803922  0.07843137]]\n"
          ]
        }
      ]
    },
    {
      "cell_type": "code",
      "metadata": {
        "colab": {
          "base_uri": "https://localhost:8080/"
        },
        "id": "XGwUOsNaGMQy",
        "outputId": "ca7cd6e6-db89-49cf-fbc8-4b623107bd0d"
      },
      "source": [
        "B = np.array([[20],[26]])\n",
        "print(B)\n",
        "X = np.linalg.inv(A).dot(B)\n",
        "print(X)"
      ],
      "execution_count": null,
      "outputs": [
        {
          "output_type": "stream",
          "name": "stdout",
          "text": [
            "[[20]\n",
            " [26]]\n",
            "[[2.]\n",
            " [4.]]\n"
          ]
        }
      ]
    },
    {
      "cell_type": "code",
      "metadata": {
        "colab": {
          "base_uri": "https://localhost:8080/"
        },
        "id": "zZCl3O4xG7CR",
        "outputId": "300b9125-fc1d-490a-c326-2bed86cded48"
      },
      "source": [
        "X = np.dot(inv_A,B)\n",
        "print(X)"
      ],
      "execution_count": null,
      "outputs": [
        {
          "output_type": "stream",
          "name": "stdout",
          "text": [
            "[[2.]\n",
            " [4.]]\n"
          ]
        }
      ]
    },
    {
      "cell_type": "code",
      "metadata": {
        "colab": {
          "base_uri": "https://localhost:8080/"
        },
        "id": "XQTwxzn5MDKz",
        "outputId": "ced2d544-5204-49e9-c4f4-10ae478de1d1"
      },
      "source": [
        "A2 = np.array([[20,10], [17,22]])\n",
        "B2 = np.array([[350],[500]])\n",
        "print(A2)\n",
        "print()\n",
        "print(B2)\n",
        "print()\n",
        "X2 = np.linalg.inv(A2).dot(B2)\n",
        "print(X2)\n",
        "print()\n",
        "print(np.dot(A2,X2))"
      ],
      "execution_count": 34,
      "outputs": [
        {
          "output_type": "stream",
          "name": "stdout",
          "text": [
            "[[20 10]\n",
            " [17 22]]\n",
            "\n",
            "[[350]\n",
            " [500]]\n",
            "\n",
            "[[10.]\n",
            " [15.]]\n",
            "\n",
            "[[350.]\n",
            " [500.]]\n"
          ]
        }
      ]
    },
    {
      "cell_type": "code",
      "metadata": {
        "colab": {
          "base_uri": "https://localhost:8080/"
        },
        "id": "hlbmEV39HcXV",
        "outputId": "74ce0be8-9336-4571-803b-867f2c1fb014"
      },
      "source": [
        "A1 = np.array([[4,3,2], [-2,2,3], [3,-5,2]])\n",
        "B1 = np.array([[25],[-10],[-4]])\n",
        "print(A1)\n",
        "print()\n",
        "print(B1)\n",
        "print()\n",
        "X1 = np.linalg.inv(A1).dot(B1)\n",
        "print(X1)\n",
        "print()\n",
        "print(np.dot(A1,X1))"
      ],
      "execution_count": 33,
      "outputs": [
        {
          "output_type": "stream",
          "name": "stdout",
          "text": [
            "[[ 4  3  2]\n",
            " [-2  2  3]\n",
            " [ 3 -5  2]]\n",
            "\n",
            "[[ 25]\n",
            " [-10]\n",
            " [ -4]]\n",
            "\n",
            "[[ 5.]\n",
            " [ 3.]\n",
            " [-2.]]\n",
            "\n",
            "[[ 25.]\n",
            " [-10.]\n",
            " [ -4.]]\n"
          ]
        }
      ]
    }
  ]
}