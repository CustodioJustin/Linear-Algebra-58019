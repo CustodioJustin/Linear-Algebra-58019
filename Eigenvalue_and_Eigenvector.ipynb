{
  "nbformat": 4,
  "nbformat_minor": 0,
  "metadata": {
    "colab": {
      "name": "Eigenvalue and Eigenvector",
      "provenance": [],
      "authorship_tag": "ABX9TyPG5gHOyB/vilWb6qXJ7GvJ",
      "include_colab_link": true
    },
    "kernelspec": {
      "name": "python3",
      "display_name": "Python 3"
    },
    "language_info": {
      "name": "python"
    }
  },
  "cells": [
    {
      "cell_type": "markdown",
      "metadata": {
        "id": "view-in-github",
        "colab_type": "text"
      },
      "source": [
        "<a href=\"https://colab.research.google.com/github/CustodioJustin/Linear-Algebra-58019/blob/main/Eigenvalue_and_Eigenvector.ipynb\" target=\"_parent\"><img src=\"https://colab.research.google.com/assets/colab-badge.svg\" alt=\"Open In Colab\"/></a>"
      ]
    },
    {
      "cell_type": "markdown",
      "source": [
        "##Examples"
      ],
      "metadata": {
        "id": "lv3K3ikLrrbZ"
      }
    },
    {
      "cell_type": "code",
      "execution_count": 5,
      "metadata": {
        "colab": {
          "base_uri": "https://localhost:8080/"
        },
        "id": "X9U5NuS7q5M5",
        "outputId": "ff1e48c8-9600-4dfb-80f2-b063067e2807"
      },
      "outputs": [
        {
          "output_type": "stream",
          "name": "stdout",
          "text": [
            "[[-12   3]\n",
            " [  4   1]] \n",
            "\n",
            "[[-0.04166667  0.125     ]\n",
            " [ 0.16666667  0.5       ]] \n",
            "\n",
            "[[0]\n",
            " [0]] \n",
            "\n",
            "[[0.]\n",
            " [0.]] \n",
            "\n"
          ]
        }
      ],
      "source": [
        "# Example 1\n",
        "\n",
        "import numpy as np\n",
        "#from numpy.linalg import solve\n",
        "from numpy.linalg import eig\n",
        "\n",
        "A = np.array([[-12,3],\n",
        "              [4,1]])\n",
        "\n",
        "print(A, \"\\n\")\n",
        "\n",
        "inv_A = np.linalg.inv(A)\n",
        "print(inv_A, \"\\n\")\n",
        "\n",
        "B = np.array([[0], [0]])\n",
        "print(B, \"\\n\")\n",
        "\n",
        "X = np.dot(inv_A, B)\n",
        "print(X, \"\\n\")\n",
        "\n",
        "# X = solve(A, B)\n",
        "# print(X, \"\\n\")"
      ]
    },
    {
      "cell_type": "code",
      "source": [
        "# Example 2\n",
        "\n",
        "A = np.array([[2,2,4],\n",
        "              [1,3,5],\n",
        "              [2,3,4]])\n",
        "print(A, \"\\n\")\n",
        "\n",
        "s,t = np.linalg.eig(A)\n",
        "print(s.round(), \"\\n\\n\", t.round(), \"\\n\")\n",
        "\n",
        "c = np.dot(A,t)\n",
        "print(c, \"\\n\")"
      ],
      "metadata": {
        "colab": {
          "base_uri": "https://localhost:8080/"
        },
        "id": "jbu83o9MuNZ4",
        "outputId": "9e9fc5cd-05b1-40ee-f0e1-78c8107c7d55"
      },
      "execution_count": 13,
      "outputs": [
        {
          "output_type": "stream",
          "name": "stdout",
          "text": [
            "[[2 2 4]\n",
            " [1 3 5]\n",
            " [2 3 4]] \n",
            "\n",
            "[ 9.  1. -1.] \n",
            "\n",
            " [[-1. -1. -0.]\n",
            " [-1.  1. -1.]\n",
            " [-1. -0.  1.]] \n",
            "\n",
            "[[-4.65117886 -0.71834086  0.26674036]\n",
            " [-5.32417921  0.57681538  0.52235452]\n",
            " [-5.25556986 -0.09557072 -0.44358584]] \n",
            "\n"
          ]
        }
      ]
    },
    {
      "cell_type": "code",
      "source": [
        "f = np.array([[-1],\n",
        "              [-1],\n",
        "              [-1]])\n",
        "print(f, \"\\n\")\n",
        "\n",
        "g = np.dot(A, f)\n",
        "print(g, \"\\n\")"
      ],
      "metadata": {
        "colab": {
          "base_uri": "https://localhost:8080/"
        },
        "id": "xwcA1-srvWg5",
        "outputId": "44b70032-7823-4a96-a570-4beaf326e3ca"
      },
      "execution_count": 17,
      "outputs": [
        {
          "output_type": "stream",
          "name": "stdout",
          "text": [
            "[[-1]\n",
            " [-1]\n",
            " [-1]] \n",
            "\n",
            "[[-8]\n",
            " [-9]\n",
            " [-9]] \n",
            "\n"
          ]
        }
      ]
    }
  ]
}