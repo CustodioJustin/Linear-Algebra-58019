{
  "nbformat": 4,
  "nbformat_minor": 0,
  "metadata": {
    "colab": {
      "name": "Matrix Algebra",
      "provenance": [],
      "authorship_tag": "ABX9TyOpaVkCOwLgnQZ3p/hEwlW4",
      "include_colab_link": true
    },
    "kernelspec": {
      "name": "python3",
      "display_name": "Python 3"
    },
    "language_info": {
      "name": "python"
    }
  },
  "cells": [
    {
      "cell_type": "markdown",
      "metadata": {
        "id": "view-in-github",
        "colab_type": "text"
      },
      "source": [
        "<a href=\"https://colab.research.google.com/github/CustodioJustin/Linear-Algebra-58019/blob/main/Matrix_Algebra.ipynb\" target=\"_parent\"><img src=\"https://colab.research.google.com/assets/colab-badge.svg\" alt=\"Open In Colab\"/></a>"
      ]
    },
    {
      "cell_type": "code",
      "metadata": {
        "colab": {
          "base_uri": "https://localhost:8080/"
        },
        "id": "G47no8eM5ITo",
        "outputId": "9893b714-7f1d-445d-8fc5-d470b7a8c687"
      },
      "source": [
        "import numpy as np\n",
        "A = np.array([[1,2,3],[4,5,6],[7,8,9]])\n",
        "print(A)"
      ],
      "execution_count": 1,
      "outputs": [
        {
          "output_type": "stream",
          "name": "stdout",
          "text": [
            "[[1 2 3]\n",
            " [4 5 6]\n",
            " [7 8 9]]\n"
          ]
        }
      ]
    },
    {
      "cell_type": "code",
      "metadata": {
        "colab": {
          "base_uri": "https://localhost:8080/"
        },
        "id": "Dt1nWrtg5XVX",
        "outputId": "df21f1f5-59e6-456b-c0aa-ea27f65fff2b"
      },
      "source": [
        "import numpy as np\n",
        "A = np.array([[1,2],[4,7]])\n",
        "B = np.linalg.inv(A)\n",
        "print(B)"
      ],
      "execution_count": 2,
      "outputs": [
        {
          "output_type": "stream",
          "name": "stdout",
          "text": [
            "[[-7.  2.]\n",
            " [ 4. -1.]]\n"
          ]
        }
      ]
    },
    {
      "cell_type": "code",
      "metadata": {
        "colab": {
          "base_uri": "https://localhost:8080/"
        },
        "id": "qXXus4q35rvV",
        "outputId": "856704da-d48c-447d-ba2b-76225666d955"
      },
      "source": [
        "import numpy as np\n",
        "A = np.array([[1,2],[4,7]])\n",
        "invA = np.linalg.inv(A)\n",
        "print(invA)"
      ],
      "execution_count": 4,
      "outputs": [
        {
          "output_type": "stream",
          "name": "stdout",
          "text": [
            "[[-7.  2.]\n",
            " [ 4. -1.]]\n"
          ]
        }
      ]
    },
    {
      "cell_type": "code",
      "metadata": {
        "colab": {
          "base_uri": "https://localhost:8080/"
        },
        "id": "KRjFyMfU5kmV",
        "outputId": "e090a37b-b128-43c8-92f6-699dec887da5"
      },
      "source": [
        "C = np.dot(A,invA)\n",
        "print(C)"
      ],
      "execution_count": 5,
      "outputs": [
        {
          "output_type": "stream",
          "name": "stdout",
          "text": [
            "[[1. 0.]\n",
            " [0. 1.]]\n"
          ]
        }
      ]
    },
    {
      "cell_type": "code",
      "metadata": {
        "id": "18JofQThxo2T"
      },
      "source": [
        "##Python program to Inverse 3x3 Matrix A = ()"
      ],
      "execution_count": null,
      "outputs": []
    },
    {
      "cell_type": "code",
      "metadata": {
        "colab": {
          "base_uri": "https://localhost:8080/"
        },
        "id": "K4LyxE70525f",
        "outputId": "8c403c15-04bc-4a88-ce1c-478c56ef9c2f"
      },
      "source": [
        "A = np.array([[6,1,1],[4,-2,5],[2,8,7]])\n",
        "print(A)\n",
        "B = np.transpose(A)\n",
        "print(B)"
      ],
      "execution_count": 11,
      "outputs": [
        {
          "output_type": "stream",
          "name": "stdout",
          "text": [
            "[[ 6  1  1]\n",
            " [ 4 -2  5]\n",
            " [ 2  8  7]]\n",
            "[[ 6  4  2]\n",
            " [ 1 -2  8]\n",
            " [ 1  5  7]]\n"
          ]
        }
      ]
    },
    {
      "cell_type": "code",
      "metadata": {
        "colab": {
          "base_uri": "https://localhost:8080/"
        },
        "id": "CfjIB2KV7IMt",
        "outputId": "5a95679e-6bb9-4412-df89-ac4f86d1b120"
      },
      "source": [
        "A = np.array([[6,1,1],[4,-2,5],[2,8,7]])\n",
        "print(A)\n",
        "B = np.linalg.inv(A)\n",
        "print(B)"
      ],
      "execution_count": 12,
      "outputs": [
        {
          "output_type": "stream",
          "name": "stdout",
          "text": [
            "[[ 6  1  1]\n",
            " [ 4 -2  5]\n",
            " [ 2  8  7]]\n",
            "[[ 0.17647059 -0.00326797 -0.02287582]\n",
            " [ 0.05882353 -0.13071895  0.08496732]\n",
            " [-0.11764706  0.1503268   0.05228758]]\n"
          ]
        }
      ]
    },
    {
      "cell_type": "markdown",
      "metadata": {
        "id": "KKQdZ7VR7lwI"
      },
      "source": [
        "## Program Code Product of A and B"
      ]
    },
    {
      "cell_type": "code",
      "metadata": {
        "colab": {
          "base_uri": "https://localhost:8080/"
        },
        "id": "uINwLJoV7hmi",
        "outputId": "8086150f-09c0-42c8-be86-db07de5e1229"
      },
      "source": [
        "productAB = np.dot(A, B)\n",
        "print(productAB)"
      ],
      "execution_count": 14,
      "outputs": [
        {
          "output_type": "stream",
          "name": "stdout",
          "text": [
            "[[ 1.00000000e+00  0.00000000e+00  2.77555756e-17]\n",
            " [-1.38777878e-17  1.00000000e+00  1.38777878e-17]\n",
            " [-4.16333634e-17  1.38777878e-16  1.00000000e+00]]\n"
          ]
        }
      ]
    }
  ]
}