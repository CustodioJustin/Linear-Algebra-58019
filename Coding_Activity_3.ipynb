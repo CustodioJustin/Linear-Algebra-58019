{
  "nbformat": 4,
  "nbformat_minor": 0,
  "metadata": {
    "colab": {
      "name": "Coding Activity 3",
      "provenance": [],
      "authorship_tag": "ABX9TyNPGLQac967zN+Ct6a7cSfW",
      "include_colab_link": true
    },
    "kernelspec": {
      "name": "python3",
      "display_name": "Python 3"
    },
    "language_info": {
      "name": "python"
    }
  },
  "cells": [
    {
      "cell_type": "markdown",
      "metadata": {
        "id": "view-in-github",
        "colab_type": "text"
      },
      "source": [
        "<a href=\"https://colab.research.google.com/github/CustodioJustin/Linear-Algebra-58019/blob/main/Coding_Activity_3.ipynb\" target=\"_parent\"><img src=\"https://colab.research.google.com/assets/colab-badge.svg\" alt=\"Open In Colab\"/></a>"
      ]
    },
    {
      "cell_type": "code",
      "metadata": {
        "colab": {
          "base_uri": "https://localhost:8080/"
        },
        "id": "wO2hD6s5QTDf",
        "outputId": "a717bef7-c002-427b-c440-bfcd1e498611"
      },
      "source": [
        "import numpy as np\n",
        "\n",
        "A = np.array([[4,10,8], [10,26,26], [8,26,61]])\n",
        "B = np.array([[44],[128],[214]])\n",
        "print(A)\n",
        "print()\n",
        "print(B)\n",
        "print()\n",
        "X = np.linalg.inv(A).dot(B)\n",
        "print(X)\n",
        "print()\n",
        "print(np.dot(A,X))\n",
        "print()\n",
        "print(\"Proof\")\n",
        "print(\"4x+10y+8z =\", (4*X[0])+(10*X[1])+(8*X[2]))\n",
        "print(\"10x+26y+26z =\", (10*X[0])+(26*X[1])+(26*X[2]))\n",
        "print(\"8x+26y+61z =\", (8*X[0])+(26*X[1])+(61*X[2]))"
      ],
      "execution_count": 7,
      "outputs": [
        {
          "output_type": "stream",
          "name": "stdout",
          "text": [
            "[[ 4 10  8]\n",
            " [10 26 26]\n",
            " [ 8 26 61]]\n",
            "\n",
            "[[ 44]\n",
            " [128]\n",
            " [214]]\n",
            "\n",
            "[[-8.]\n",
            " [ 6.]\n",
            " [ 2.]]\n",
            "\n",
            "[[ 44.]\n",
            " [128.]\n",
            " [214.]]\n",
            "\n",
            "Proof\n",
            "4x+10y+8z = [44.]\n",
            "10x+26y+26z = [128.]\n",
            "8x+26y+61z = [214.]\n"
          ]
        }
      ]
    }
  ]
}